{
 "cells": [
  {
   "cell_type": "code",
   "execution_count": null,
   "metadata": {},
   "outputs": [],
   "source": [
    "from numpy import empty,arange, linspace,exp,real\n",
    "from banded import banded\n",
    "from visual import curve,display,rate\n",
    "\n",
    "#Constants \n",
    "L=1.e-8\n",
    "N=1000\n",
    "a=L/N\n",
    "m=9.109e-31\n",
    "hbar=1.055e-34\n",
    "x0=L/2\n",
    "sigma=1.e-10\n",
    "kappa=5.0e10\n",
    "tmax=1.0e-13\n",
    "yscale=1.e-9\n",
    "framerate=100\n",
    "h=1.e-18\n",
    "\n",
    "\n",
    "C=1j*hbar/(4*m*a*a)\n",
    "a1=1+2*h*C\n",
    "a2=-h*C\n",
    "b1=1-2*h*C\n",
    "b2=h*C\n",
    "\n",
    "#Create initial arrays of x and psi\n",
    "x=linspace(0,L,N+1)\n",
    "psi=exp(-(x-x0)**2/(2*sigma**2))*exp(1j*kappa*x)\n",
    "psi[0]=psi[N]=0\n",
    "\n",
    "#Create tridiagonal larray\n",
    "A=empty([3,N-1],complex)\n",
    "A[0,:]=a2\n",
    "A[1,:]=a1\n",
    "A[2,:]=a2\n",
    "\n",
    "\n",
    "display(center=[L/2,0])\n",
    "c=curve(x=x)\n",
    "#Main loop for CN method\n",
    "for t in arange(0,tmax,h):\n",
    "    v=b2*psi[0:N-1]+b1*psi[1:N]+b2*psi[2:N+1]\n",
    "    psi[1:N]=banded(A,v,1,1)\n",
    "    print(psi)\n",
    "    rate(framerate)\n",
    "    c.y=yscale*real(psi)"
   ]
  },
  {
   "cell_type": "code",
   "execution_count": null,
   "metadata": {},
   "outputs": [],
   "source": []
  },
  {
   "cell_type": "code",
   "execution_count": null,
   "metadata": {},
   "outputs": [],
   "source": []
  }
 ],
 "metadata": {
  "kernelspec": {
   "display_name": "VPython",
   "language": "python",
   "name": "vpython"
  },
  "language_info": {
   "codemirror_mode": {
    "name": "ipython",
    "version": 3
   },
   "file_extension": ".py",
   "mimetype": "text/x-python",
   "name": "python",
   "nbconvert_exporter": "python",
   "pygments_lexer": "ipython3",
   "version": "3.6.10"
  }
 },
 "nbformat": 4,
 "nbformat_minor": 4
}
