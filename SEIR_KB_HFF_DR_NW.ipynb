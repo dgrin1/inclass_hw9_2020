{
 "cells": [
  {
   "cell_type": "code",
   "execution_count": 69,
   "metadata": {},
   "outputs": [],
   "source": [
    "#https://towardsdatascience.com/social-distancing-to-slow-the-coronavirus-768292f04296\n",
    "import numpy as np\n",
    "import matplotlib.pyplot as plt\n",
    "def chi(t,ts, r):\n",
    "    #for i in range (0,len(t)):\n",
    "    if t > ts:\n",
    "        val = r\n",
    "        return val\n",
    "    else:\n",
    "        return 0\n",
    "\n",
    "def base_seir_model(init_vals, params, t):\n",
    "    S_0, E_0, I_0, R_0 = init_vals\n",
    "    S, E, I, R = [S_0], [E_0], [I_0], [R_0]\n",
    "    alpha, beta, gamma = params\n",
    "    dt = t[1] - t[0]\n",
    "    for t_temp in t[1:]:\n",
    "        next_S = S[-1] - (beta*S[-1]*I[-1])*dt - chi(t_temp,ts,r)*dt\n",
    "        next_E = E[-1] + (beta*S[-1]*I[-1] - alpha*E[-1])*dt\n",
    "        next_I = I[-1] + (alpha*E[-1] - gamma*I[-1])*dt\n",
    "        next_R = R[-1] + (gamma*I[-1])*dt\n",
    "        S.append(next_S)\n",
    "        E.append(next_E)\n",
    "        I.append(next_I)\n",
    "        R.append(next_R)\n",
    "    return np.stack([S, E, I, R]).T"
   ]
  },
  {
   "cell_type": "code",
   "execution_count": 70,
   "metadata": {},
   "outputs": [],
   "source": [
    "# Define parameters\n",
    "N = 10000\n",
    "ts = 20\n",
    "r = (1 - 1/N)/100\n",
    "t_max = 100\n",
    "dt = .1\n",
    "t = np.linspace(0, t_max, int(t_max/dt) + 1)\n",
    "init_vals = 1 - 1/N, 1/N, 0, 0\n",
    "alpha = 0.2\n",
    "beta = 1.75\n",
    "gamma = 0.5\n",
    "params = alpha, beta, gamma\n",
    "# Run simulation\n",
    "results = base_seir_model(init_vals, params, t)"
   ]
  },
  {
   "cell_type": "code",
   "execution_count": 71,
   "metadata": {
    "scrolled": true
   },
   "outputs": [
    {
     "data": {
      "text/plain": [
       "(0, 200)"
      ]
     },
     "execution_count": 71,
     "metadata": {},
     "output_type": "execute_result"
    },
    {
     "data": {
      "image/png": "[encoded data removed]",
      "text/plain": [
       "<matplotlib.figure.Figure at 0x7f5008c8a9e8>"
      ]
     },
     "metadata": {},
     "output_type": "display_data"
    }
   ],
   "source": [
    "plt.plot(t,results[:,2])\n",
    "#plt.plot(t, .1)\n",
    "plt.title(\"SEIR Plot With Vaccine, No Soc Dist\")\n",
    "plt.xlim(0,200)"
   ]
  },
  {
   "cell_type": "code",
   "execution_count": 72,
   "metadata": {},
   "outputs": [],
   "source": [
    "def chi(t,ts, r):\n",
    "    #for i in range (0,len(t)):\n",
    "    if t > ts:\n",
    "        val = r\n",
    "        return val\n",
    "    else:\n",
    "        return 0\n",
    "    \n",
    "def seir_model_with_soc_dist_vax(init_vals, params, t):\n",
    "    S_0, E_0, I_0, R_0 = init_vals\n",
    "    S, E, I, R = [S_0], [E_0], [I_0], [R_0]\n",
    "    alpha, beta, gamma, rho , ts, r = params\n",
    "    dt = t[1] - t[0]\n",
    "    for t_temp in t[1:]:\n",
    "        next_S = S[-1] - (rho*beta*S[-1]*I[-1])*dt - chi(t_temp,ts,r)*dt\n",
    "        next_E = E[-1] + (rho*beta*S[-1]*I[-1] - alpha*E[-1])*dt\n",
    "        next_I = I[-1] + (alpha*E[-1] - gamma*I[-1])*dt\n",
    "        next_R = R[-1] + (gamma*I[-1])*dt\n",
    "        S.append(next_S)\n",
    "        E.append(next_E)\n",
    "        I.append(next_I)\n",
    "        R.append(next_R)\n",
    "    return np.stack([S, E, I, R]).T"
   ]
  },
  {
   "cell_type": "code",
   "execution_count": 73,
   "metadata": {},
   "outputs": [],
   "source": [
    "# Define parameters\n",
    "N = 10000\n",
    "ts = 50\n",
    "r = (1 - 1/N)/100\n",
    "t_max = 500\n",
    "dt = .1\n",
    "t = np.linspace(0, t_max, int(t_max/dt) + 1)\n",
    "init_vals = 1 - 1/N, 1/N, 0, 0\n",
    "alpha = 0.2\n",
    "beta = 1.75\n",
    "gamma = 0.5\n",
    "rho=.5\n",
    "params = alpha, beta, gamma,rho, ts, r\n",
    "# Run simulation\n",
    "results = seir_model_with_soc_dist_vax(init_vals, params, t)"
   ]
  },
  {
   "cell_type": "code",
   "execution_count": 74,
   "metadata": {},
   "outputs": [
    {
     "data": {
      "text/plain": [
       "(0, 500)"
      ]
     },
     "execution_count": 74,
     "metadata": {},
     "output_type": "execute_result"
    },
    {
     "data": {
      "image/png": "[encoded data removed]",
      "text/plain": [
       "<matplotlib.figure.Figure at 0x7f5008c04c50>"
      ]
     },
     "metadata": {},
     "output_type": "display_data"
    }
   ],
   "source": [
    "plt.plot(t,results[:,2])\n",
    "plt.title(\"SEIR With Vaccine and Soc Dist\")\n",
    "plt.xlim(0,500)"
   ]
  },
  {
   "cell_type": "code",
   "execution_count": null,
   "metadata": {},
   "outputs": [],
   "source": []
  }
 ],
 "metadata": {
  "kernelspec": {
   "display_name": "Python 3",
   "language": "python",
   "name": "python3"
  },
  "language_info": {
   "codemirror_mode": {
    "name": "ipython",
    "version": 3
   },
   "file_extension": ".py",
   "mimetype": "text/x-python",
   "name": "python",
   "nbconvert_exporter": "python",
   "pygments_lexer": "ipython3",
   "version": "3.5.2"
  }
 },
 "nbformat": 4,
 "nbformat_minor": 4
}
